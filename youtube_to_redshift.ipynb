{
 "cells": [
  {
   "cell_type": "code",
   "execution_count": 1,
   "id": "93353055",
   "metadata": {},
   "outputs": [],
   "source": [
    "#pip install google-api-python-client"
   ]
  },
  {
   "cell_type": "code",
   "execution_count": 2,
   "id": "0f474365",
   "metadata": {},
   "outputs": [],
   "source": [
    "#importar librerias necesarias\n",
    "import pandas as pd\n",
    "import numpy as np\n",
    "import seaborn as sns\n",
    "import matplotlib.pyplot as plt\n",
    "import requests\n",
    "import psycopg2"
   ]
  },
  {
   "cell_type": "markdown",
   "id": "6de5c23c",
   "metadata": {},
   "source": [
    "# Paso 1: Extraccion data API"
   ]
  },
  {
   "cell_type": "code",
   "execution_count": 3,
   "id": "cfb3bb2d",
   "metadata": {},
   "outputs": [],
   "source": [
    "#guardar la llave en un documento .py llamado 'config' y llamar a la variable 'key'\n",
    "from config import key"
   ]
  },
  {
   "cell_type": "code",
   "execution_count": 4,
   "id": "04335473",
   "metadata": {},
   "outputs": [],
   "source": [
    "#La función se encuentra en https://github.com/googleapis/google-api-python-client/blob/main/docs/start.md\n",
    "#escogí youtube pero hay mas opciones por revisar en supported APIs\n",
    "\n",
    "from googleapiclient.discovery import build\n",
    "youtubeanna = build('youtube', 'v3', developerKey = key)"
   ]
  },
  {
   "cell_type": "code",
   "execution_count": 5,
   "id": "fb2c040b",
   "metadata": {},
   "outputs": [],
   "source": [
    "#hacemos una variable que contenga el channel ID de las cuentas que queremos analizar\n",
    "#se encuentran en click derecho view source Ctrl+f https://www.youtube.com/channel/ \n",
    "\n",
    "channel_ids = ['UCO8gWvBESNnIdZO6xyLLxTA', # autodinamico\n",
    "               'UCUt99OukA2saWKgAG2Lb9OQ', # fergurquiza\n",
    "               'UCSPwimlUyP62TPew_rG8vBg', # Jaime Gabaldoni\n",
    "               'UCm7e2zwpwK5Sm7kzpGPWM6w', # manuelavasquez1\n",
    "               'UCL5x3r5iEF7cnEgESDN0rsw', # gonzalo conducir\n",
    "               'UC9EOEaPURNo0o1s0Inua3Yw', # Frankymostro\n",
    "               'UCyYZafiawKepWzIMhCIRgNA', # Autocosmos México\n",
    "               'UCgWyfYsBqo3qieiXs1ACbbw', # carwow América Latina\n",
    "               'UC3FjkCViowUjmYldrssIMAQ' # chekomariscal\n",
    "              ]"
   ]
  },
  {
   "cell_type": "code",
   "execution_count": 6,
   "id": "025656e9",
   "metadata": {},
   "outputs": [],
   "source": [
    "#creamos variables individuales en caso de necesitarlas mas adelante\n",
    "autodinamico = 'UCO8gWvBESNnIdZO6xyLLxTA'\n",
    "fer = 'UCUt99OukA2saWKgAG2Lb9OQ'\n",
    "manuela = 'UCm7e2zwpwK5Sm7kzpGPWM6w'\n",
    "cheko = 'UC3FjkCViowUjmYldrssIMAQ'\n",
    "jaime ='UCSPwimlUyP62TPew_rG8vBg'\n",
    "gonzalo = 'UCL5x3r5iEF7cnEgESDN0rsw'\n",
    "franky ='UC9EOEaPURNo0o1s0Inua3Yw'\n",
    "autocosmos = 'UCyYZafiawKepWzIMhCIRgNA'\n",
    "carwow = 'UCgWyfYsBqo3qieiXs1ACbbw'"
   ]
  },
  {
   "cell_type": "code",
   "execution_count": 7,
   "id": "6592d5cc",
   "metadata": {},
   "outputs": [
    {
     "name": "stdout",
     "output_type": "stream",
     "text": [
      "{'kind': 'youtube#channelListResponse', 'etag': 'JVGjaUi7aGSqTM7dl5xA5-X3_D0', 'pageInfo': {'totalResults': 1, 'resultsPerPage': 5}, 'items': [{'kind': 'youtube#channel', 'etag': 'Cf_t3azxlqkMkvlGU_34VZHh_cM', 'id': 'UCO8gWvBESNnIdZO6xyLLxTA', 'snippet': {'title': 'AutoDinámico', 'description': 'AutoDinámico es el canal donde te mantendremos informado de todo lo que tienes que saber de el mundo de los autos. Te ayudamos a decidir que auto comprar o simplemente curiosear que ofrece un auto en comparación a otro. Todo de una manera relajada y enfocado a lo práctico y la vida diaria con el auto.', 'customUrl': '@autodinamico', 'publishedAt': '2014-11-06T07:40:15Z', 'thumbnails': {'default': {'url': 'https://yt3.ggpht.com/tBkrua2Ib5vT76ZaFIKgdgS5eEYcd7j1jsqlqjZ5N0meZ8Da8cEOTSwrr9I5Y5VSJH65aqw9dA=s88-c-k-c0x00ffffff-no-rj', 'width': 88, 'height': 88}, 'medium': {'url': 'https://yt3.ggpht.com/tBkrua2Ib5vT76ZaFIKgdgS5eEYcd7j1jsqlqjZ5N0meZ8Da8cEOTSwrr9I5Y5VSJH65aqw9dA=s240-c-k-c0x00ffffff-no-rj', 'width': 240, 'height': 240}, 'high': {'url': 'https://yt3.ggpht.com/tBkrua2Ib5vT76ZaFIKgdgS5eEYcd7j1jsqlqjZ5N0meZ8Da8cEOTSwrr9I5Y5VSJH65aqw9dA=s800-c-k-c0x00ffffff-no-rj', 'width': 800, 'height': 800}}, 'defaultLanguage': 'es-419', 'localized': {'title': 'AutoDinámico', 'description': 'AutoDinámico es el canal donde te mantendremos informado de todo lo que tienes que saber de el mundo de los autos. Te ayudamos a decidir que auto comprar o simplemente curiosear que ofrece un auto en comparación a otro. Todo de una manera relajada y enfocado a lo práctico y la vida diaria con el auto.'}, 'country': 'MX'}, 'contentDetails': {'relatedPlaylists': {'likes': '', 'uploads': 'UUO8gWvBESNnIdZO6xyLLxTA'}}, 'statistics': {'viewCount': '438354444', 'subscriberCount': '1410000', 'hiddenSubscriberCount': False, 'videoCount': '1217'}}]}\n"
     ]
    }
   ],
   "source": [
    "#vamos a probar si funciona la API trayendo como JSON el'snippet,contentDetails,statistics' del canal autodinamico\n",
    "#Para tener una mejor vista del JSON entrar a jsonformatter.curiousconcept.com\n",
    "#Esto sirve para localizar los datos que queremos extraer y saber cuantos hay\n",
    "request = youtubeanna.channels().list(part ='snippet,contentDetails,statistics', id= autodinamico)\n",
    "response = request.execute()\n",
    "print(response)"
   ]
  },
  {
   "cell_type": "code",
   "execution_count": 8,
   "id": "cdfb32e1",
   "metadata": {},
   "outputs": [],
   "source": [
    "#creamos una funcion que traiga las estadisticas de todos los canales a una lista\n",
    "\n",
    "def get_channel_stats(youtubeanna, channel_ids):\n",
    "    all_youtubers = []\n",
    "    request = youtubeanna.channels().list(\n",
    "                part ='snippet,contentDetails,statistics',\n",
    "                id=','.join(channel_ids))\n",
    "    response = request.execute()\n",
    "    \n",
    "    for i in range(len(response['items'])):\n",
    "        data = dict( channel_name = response ['items'][i]['snippet']['title'], \n",
    "                     subscribers = response ['items'][i]['statistics']['subscriberCount'], \n",
    "                     views = response ['items'][i]['statistics']['viewCount'],\n",
    "                     video_count = response ['items'][i]['statistics']['videoCount'])\n",
    "        all_youtubers.append(data)\n",
    "        \n",
    "        \n",
    "    return all_youtubers"
   ]
  },
  {
   "cell_type": "code",
   "execution_count": 9,
   "id": "eabb67bc",
   "metadata": {},
   "outputs": [
    {
     "data": {
      "text/plain": [
       "[{'channel_name': 'Chekomariscal',\n",
       "  'subscribers': '74100',\n",
       "  'views': '1606755',\n",
       "  'video_count': '212'},\n",
       " {'channel_name': 'FERCHO URQUIZA',\n",
       "  'subscribers': '732000',\n",
       "  'views': '56977909',\n",
       "  'video_count': '251'},\n",
       " {'channel_name': 'Manuela Vasquez',\n",
       "  'subscribers': '385000',\n",
       "  'views': '82296178',\n",
       "  'video_count': '603'},\n",
       " {'channel_name': 'Frankymostro',\n",
       "  'subscribers': '340000',\n",
       "  'views': '40903877',\n",
       "  'video_count': '626'},\n",
       " {'channel_name': 'Autocosmos México',\n",
       "  'subscribers': '542000',\n",
       "  'views': '165781549',\n",
       "  'video_count': '1143'},\n",
       " {'channel_name': 'carwow América Latina',\n",
       "  'subscribers': '1030000',\n",
       "  'views': '209257603',\n",
       "  'video_count': '741'},\n",
       " {'channel_name': 'Gonzalo. Mi Gusto es: ¡Conducir!',\n",
       "  'subscribers': '462000',\n",
       "  'views': '109700401',\n",
       "  'video_count': '1301'},\n",
       " {'channel_name': 'AutoDinámico',\n",
       "  'subscribers': '1410000',\n",
       "  'views': '438354444',\n",
       "  'video_count': '1217'},\n",
       " {'channel_name': 'Jaime Gabaldoni',\n",
       "  'subscribers': '275000',\n",
       "  'views': '99314188',\n",
       "  'video_count': '1187'}]"
      ]
     },
     "execution_count": 9,
     "metadata": {},
     "output_type": "execute_result"
    }
   ],
   "source": [
    "#llamamos a la funcion\n",
    "get_channel_stats(youtubeanna, channel_ids)"
   ]
  },
  {
   "cell_type": "code",
   "execution_count": 10,
   "id": "072997bc",
   "metadata": {},
   "outputs": [
    {
     "data": {
      "text/plain": [
       "[{'channel_name': 'Autocosmos México',\n",
       "  'subscribers': '542000',\n",
       "  'views': '165781549',\n",
       "  'video_count': '1143'},\n",
       " {'channel_name': 'Gonzalo. Mi Gusto es: ¡Conducir!',\n",
       "  'subscribers': '462000',\n",
       "  'views': '109700401',\n",
       "  'video_count': '1301'},\n",
       " {'channel_name': 'carwow América Latina',\n",
       "  'subscribers': '1030000',\n",
       "  'views': '209257603',\n",
       "  'video_count': '741'},\n",
       " {'channel_name': 'Manuela Vasquez',\n",
       "  'subscribers': '385000',\n",
       "  'views': '82296178',\n",
       "  'video_count': '603'},\n",
       " {'channel_name': 'Jaime Gabaldoni',\n",
       "  'subscribers': '275000',\n",
       "  'views': '99314188',\n",
       "  'video_count': '1187'},\n",
       " {'channel_name': 'Chekomariscal',\n",
       "  'subscribers': '74100',\n",
       "  'views': '1606755',\n",
       "  'video_count': '212'},\n",
       " {'channel_name': 'FERCHO URQUIZA',\n",
       "  'subscribers': '732000',\n",
       "  'views': '56977909',\n",
       "  'video_count': '251'},\n",
       " {'channel_name': 'Frankymostro',\n",
       "  'subscribers': '340000',\n",
       "  'views': '40903877',\n",
       "  'video_count': '626'},\n",
       " {'channel_name': 'AutoDinámico',\n",
       "  'subscribers': '1410000',\n",
       "  'views': '438354444',\n",
       "  'video_count': '1217'}]"
      ]
     },
     "execution_count": 10,
     "metadata": {},
     "output_type": "execute_result"
    }
   ],
   "source": [
    "#creamos una variable que contenga el llamado de la funcion hecha\n",
    "channel_statistics = get_channel_stats(youtubeanna, channel_ids)\n",
    "channel_statistics"
   ]
  },
  {
   "cell_type": "code",
   "execution_count": 11,
   "id": "03164550",
   "metadata": {},
   "outputs": [
    {
     "data": {
      "text/html": [
       "<div>\n",
       "<style scoped>\n",
       "    .dataframe tbody tr th:only-of-type {\n",
       "        vertical-align: middle;\n",
       "    }\n",
       "\n",
       "    .dataframe tbody tr th {\n",
       "        vertical-align: top;\n",
       "    }\n",
       "\n",
       "    .dataframe thead th {\n",
       "        text-align: right;\n",
       "    }\n",
       "</style>\n",
       "<table border=\"1\" class=\"dataframe\">\n",
       "  <thead>\n",
       "    <tr style=\"text-align: right;\">\n",
       "      <th></th>\n",
       "      <th>channel_name</th>\n",
       "      <th>subscribers</th>\n",
       "      <th>views</th>\n",
       "      <th>video_count</th>\n",
       "    </tr>\n",
       "  </thead>\n",
       "  <tbody>\n",
       "    <tr>\n",
       "      <th>0</th>\n",
       "      <td>Autocosmos México</td>\n",
       "      <td>542000</td>\n",
       "      <td>165781549</td>\n",
       "      <td>1143</td>\n",
       "    </tr>\n",
       "    <tr>\n",
       "      <th>1</th>\n",
       "      <td>Gonzalo. Mi Gusto es: ¡Conducir!</td>\n",
       "      <td>462000</td>\n",
       "      <td>109700401</td>\n",
       "      <td>1301</td>\n",
       "    </tr>\n",
       "    <tr>\n",
       "      <th>2</th>\n",
       "      <td>carwow América Latina</td>\n",
       "      <td>1030000</td>\n",
       "      <td>209257603</td>\n",
       "      <td>741</td>\n",
       "    </tr>\n",
       "    <tr>\n",
       "      <th>3</th>\n",
       "      <td>Manuela Vasquez</td>\n",
       "      <td>385000</td>\n",
       "      <td>82296178</td>\n",
       "      <td>603</td>\n",
       "    </tr>\n",
       "    <tr>\n",
       "      <th>4</th>\n",
       "      <td>Jaime Gabaldoni</td>\n",
       "      <td>275000</td>\n",
       "      <td>99314188</td>\n",
       "      <td>1187</td>\n",
       "    </tr>\n",
       "    <tr>\n",
       "      <th>5</th>\n",
       "      <td>Chekomariscal</td>\n",
       "      <td>74100</td>\n",
       "      <td>1606755</td>\n",
       "      <td>212</td>\n",
       "    </tr>\n",
       "    <tr>\n",
       "      <th>6</th>\n",
       "      <td>FERCHO URQUIZA</td>\n",
       "      <td>732000</td>\n",
       "      <td>56977909</td>\n",
       "      <td>251</td>\n",
       "    </tr>\n",
       "    <tr>\n",
       "      <th>7</th>\n",
       "      <td>Frankymostro</td>\n",
       "      <td>340000</td>\n",
       "      <td>40903877</td>\n",
       "      <td>626</td>\n",
       "    </tr>\n",
       "    <tr>\n",
       "      <th>8</th>\n",
       "      <td>AutoDinámico</td>\n",
       "      <td>1410000</td>\n",
       "      <td>438354444</td>\n",
       "      <td>1217</td>\n",
       "    </tr>\n",
       "  </tbody>\n",
       "</table>\n",
       "</div>"
      ],
      "text/plain": [
       "                       channel_name subscribers      views video_count\n",
       "0                 Autocosmos México      542000  165781549        1143\n",
       "1  Gonzalo. Mi Gusto es: ¡Conducir!      462000  109700401        1301\n",
       "2             carwow América Latina     1030000  209257603         741\n",
       "3                   Manuela Vasquez      385000   82296178         603\n",
       "4                   Jaime Gabaldoni      275000   99314188        1187\n",
       "5                     Chekomariscal       74100    1606755         212\n",
       "6                    FERCHO URQUIZA      732000   56977909         251\n",
       "7                      Frankymostro      340000   40903877         626\n",
       "8                      AutoDinámico     1410000  438354444        1217"
      ]
     },
     "execution_count": 11,
     "metadata": {},
     "output_type": "execute_result"
    }
   ],
   "source": [
    "#la variable la pasamos a un data frame para poder tener una mejor vista\n",
    "channels_frame = pd.DataFrame(channel_statistics)\n",
    "channels_frame"
   ]
  },
  {
   "cell_type": "markdown",
   "id": "d47f365f",
   "metadata": {},
   "source": [
    "# Paso 2: Limpieza de data"
   ]
  },
  {
   "cell_type": "code",
   "execution_count": 12,
   "id": "e2fa7b5d",
   "metadata": {},
   "outputs": [
    {
     "data": {
      "text/plain": [
       "channel_name    object\n",
       "subscribers     object\n",
       "views           object\n",
       "video_count     object\n",
       "dtype: object"
      ]
     },
     "execution_count": 12,
     "metadata": {},
     "output_type": "execute_result"
    }
   ],
   "source": [
    "#revisar el tipo de datos de cada columna\n",
    "channels_frame.dtypes"
   ]
  },
  {
   "cell_type": "code",
   "execution_count": 13,
   "id": "222aaf5a",
   "metadata": {},
   "outputs": [],
   "source": [
    "#cambiar de tipo de datos segun corresponda\n",
    "channels_frame['subscribers'] = pd.to_numeric(channels_frame['subscribers'], errors='coerce')\n",
    "channels_frame['views'] = pd.to_numeric(channels_frame['views'], errors='coerce')\n",
    "channels_frame['video_count'] = pd.to_numeric(channels_frame['video_count'], errors='coerce')"
   ]
  },
  {
   "cell_type": "code",
   "execution_count": 14,
   "id": "8146025d",
   "metadata": {},
   "outputs": [
    {
     "data": {
      "text/plain": [
       "channel_name    object\n",
       "subscribers      int64\n",
       "views            int64\n",
       "video_count      int64\n",
       "dtype: object"
      ]
     },
     "execution_count": 14,
     "metadata": {},
     "output_type": "execute_result"
    }
   ],
   "source": [
    "#revisar nuevamente el tipo de datos de cada columna y confirmar cambio\n",
    "channels_frame.dtypes"
   ]
  },
  {
   "cell_type": "code",
   "execution_count": 15,
   "id": "7ba59e2e",
   "metadata": {},
   "outputs": [
    {
     "data": {
      "text/html": [
       "<div>\n",
       "<style scoped>\n",
       "    .dataframe tbody tr th:only-of-type {\n",
       "        vertical-align: middle;\n",
       "    }\n",
       "\n",
       "    .dataframe tbody tr th {\n",
       "        vertical-align: top;\n",
       "    }\n",
       "\n",
       "    .dataframe thead th {\n",
       "        text-align: right;\n",
       "    }\n",
       "</style>\n",
       "<table border=\"1\" class=\"dataframe\">\n",
       "  <thead>\n",
       "    <tr style=\"text-align: right;\">\n",
       "      <th></th>\n",
       "      <th>channel_name</th>\n",
       "      <th>subscribers</th>\n",
       "      <th>views</th>\n",
       "      <th>video_count</th>\n",
       "    </tr>\n",
       "  </thead>\n",
       "  <tbody>\n",
       "    <tr>\n",
       "      <th>0</th>\n",
       "      <td>AutoDinámico</td>\n",
       "      <td>1410000</td>\n",
       "      <td>438354444</td>\n",
       "      <td>1217</td>\n",
       "    </tr>\n",
       "    <tr>\n",
       "      <th>1</th>\n",
       "      <td>carwow América Latina</td>\n",
       "      <td>1030000</td>\n",
       "      <td>209257603</td>\n",
       "      <td>741</td>\n",
       "    </tr>\n",
       "    <tr>\n",
       "      <th>2</th>\n",
       "      <td>FERCHO URQUIZA</td>\n",
       "      <td>732000</td>\n",
       "      <td>56977909</td>\n",
       "      <td>251</td>\n",
       "    </tr>\n",
       "    <tr>\n",
       "      <th>3</th>\n",
       "      <td>Autocosmos México</td>\n",
       "      <td>542000</td>\n",
       "      <td>165781549</td>\n",
       "      <td>1143</td>\n",
       "    </tr>\n",
       "    <tr>\n",
       "      <th>4</th>\n",
       "      <td>Gonzalo. Mi Gusto es: ¡Conducir!</td>\n",
       "      <td>462000</td>\n",
       "      <td>109700401</td>\n",
       "      <td>1301</td>\n",
       "    </tr>\n",
       "    <tr>\n",
       "      <th>5</th>\n",
       "      <td>Manuela Vasquez</td>\n",
       "      <td>385000</td>\n",
       "      <td>82296178</td>\n",
       "      <td>603</td>\n",
       "    </tr>\n",
       "    <tr>\n",
       "      <th>6</th>\n",
       "      <td>Frankymostro</td>\n",
       "      <td>340000</td>\n",
       "      <td>40903877</td>\n",
       "      <td>626</td>\n",
       "    </tr>\n",
       "    <tr>\n",
       "      <th>7</th>\n",
       "      <td>Jaime Gabaldoni</td>\n",
       "      <td>275000</td>\n",
       "      <td>99314188</td>\n",
       "      <td>1187</td>\n",
       "    </tr>\n",
       "    <tr>\n",
       "      <th>8</th>\n",
       "      <td>Chekomariscal</td>\n",
       "      <td>74100</td>\n",
       "      <td>1606755</td>\n",
       "      <td>212</td>\n",
       "    </tr>\n",
       "  </tbody>\n",
       "</table>\n",
       "</div>"
      ],
      "text/plain": [
       "                       channel_name  subscribers      views  video_count\n",
       "0                      AutoDinámico      1410000  438354444         1217\n",
       "1             carwow América Latina      1030000  209257603          741\n",
       "2                    FERCHO URQUIZA       732000   56977909          251\n",
       "3                 Autocosmos México       542000  165781549         1143\n",
       "4  Gonzalo. Mi Gusto es: ¡Conducir!       462000  109700401         1301\n",
       "5                   Manuela Vasquez       385000   82296178          603\n",
       "6                      Frankymostro       340000   40903877          626\n",
       "7                   Jaime Gabaldoni       275000   99314188         1187\n",
       "8                     Chekomariscal        74100    1606755          212"
      ]
     },
     "execution_count": 15,
     "metadata": {},
     "output_type": "execute_result"
    }
   ],
   "source": [
    "#ordenar el data frame por la columna \"subscribers\" de mayor a menor\n",
    "channels_frame= channels_frame.sort_values('subscribers', ascending=False, ignore_index=True)\n",
    "channels_frame"
   ]
  },
  {
   "cell_type": "code",
   "execution_count": 16,
   "id": "e488561d",
   "metadata": {},
   "outputs": [],
   "source": [
    "#definir una función que agregue comas a los números\n",
    "def agregar_comas(num):\n",
    "    if isinstance(num, (int, float)):\n",
    "        return '{:,}'.format(num)\n",
    "    else:\n",
    "        return num"
   ]
  },
  {
   "cell_type": "code",
   "execution_count": 17,
   "id": "59b54b64",
   "metadata": {},
   "outputs": [
    {
     "data": {
      "text/html": [
       "<div>\n",
       "<style scoped>\n",
       "    .dataframe tbody tr th:only-of-type {\n",
       "        vertical-align: middle;\n",
       "    }\n",
       "\n",
       "    .dataframe tbody tr th {\n",
       "        vertical-align: top;\n",
       "    }\n",
       "\n",
       "    .dataframe thead th {\n",
       "        text-align: right;\n",
       "    }\n",
       "</style>\n",
       "<table border=\"1\" class=\"dataframe\">\n",
       "  <thead>\n",
       "    <tr style=\"text-align: right;\">\n",
       "      <th></th>\n",
       "      <th>channel_name</th>\n",
       "      <th>subscribers</th>\n",
       "      <th>views</th>\n",
       "      <th>video_count</th>\n",
       "    </tr>\n",
       "  </thead>\n",
       "  <tbody>\n",
       "    <tr>\n",
       "      <th>0</th>\n",
       "      <td>AutoDinámico</td>\n",
       "      <td>1,410,000</td>\n",
       "      <td>438,354,444</td>\n",
       "      <td>1,217</td>\n",
       "    </tr>\n",
       "    <tr>\n",
       "      <th>1</th>\n",
       "      <td>carwow América Latina</td>\n",
       "      <td>1,030,000</td>\n",
       "      <td>209,257,603</td>\n",
       "      <td>741</td>\n",
       "    </tr>\n",
       "    <tr>\n",
       "      <th>2</th>\n",
       "      <td>FERCHO URQUIZA</td>\n",
       "      <td>732,000</td>\n",
       "      <td>56,977,909</td>\n",
       "      <td>251</td>\n",
       "    </tr>\n",
       "    <tr>\n",
       "      <th>3</th>\n",
       "      <td>Autocosmos México</td>\n",
       "      <td>542,000</td>\n",
       "      <td>165,781,549</td>\n",
       "      <td>1,143</td>\n",
       "    </tr>\n",
       "    <tr>\n",
       "      <th>4</th>\n",
       "      <td>Gonzalo. Mi Gusto es: ¡Conducir!</td>\n",
       "      <td>462,000</td>\n",
       "      <td>109,700,401</td>\n",
       "      <td>1,301</td>\n",
       "    </tr>\n",
       "    <tr>\n",
       "      <th>5</th>\n",
       "      <td>Manuela Vasquez</td>\n",
       "      <td>385,000</td>\n",
       "      <td>82,296,178</td>\n",
       "      <td>603</td>\n",
       "    </tr>\n",
       "    <tr>\n",
       "      <th>6</th>\n",
       "      <td>Frankymostro</td>\n",
       "      <td>340,000</td>\n",
       "      <td>40,903,877</td>\n",
       "      <td>626</td>\n",
       "    </tr>\n",
       "    <tr>\n",
       "      <th>7</th>\n",
       "      <td>Jaime Gabaldoni</td>\n",
       "      <td>275,000</td>\n",
       "      <td>99,314,188</td>\n",
       "      <td>1,187</td>\n",
       "    </tr>\n",
       "    <tr>\n",
       "      <th>8</th>\n",
       "      <td>Chekomariscal</td>\n",
       "      <td>74,100</td>\n",
       "      <td>1,606,755</td>\n",
       "      <td>212</td>\n",
       "    </tr>\n",
       "  </tbody>\n",
       "</table>\n",
       "</div>"
      ],
      "text/plain": [
       "                       channel_name subscribers        views video_count\n",
       "0                      AutoDinámico   1,410,000  438,354,444       1,217\n",
       "1             carwow América Latina   1,030,000  209,257,603         741\n",
       "2                    FERCHO URQUIZA     732,000   56,977,909         251\n",
       "3                 Autocosmos México     542,000  165,781,549       1,143\n",
       "4  Gonzalo. Mi Gusto es: ¡Conducir!     462,000  109,700,401       1,301\n",
       "5                   Manuela Vasquez     385,000   82,296,178         603\n",
       "6                      Frankymostro     340,000   40,903,877         626\n",
       "7                   Jaime Gabaldoni     275,000   99,314,188       1,187\n",
       "8                     Chekomariscal      74,100    1,606,755         212"
      ]
     },
     "execution_count": 17,
     "metadata": {},
     "output_type": "execute_result"
    }
   ],
   "source": [
    "#aplicar la función a las columnas\n",
    "channels_frame['subscribers'] = channels_frame['subscribers'].apply(agregar_comas)\n",
    "channels_frame['views'] = channels_frame['views'].apply(agregar_comas)\n",
    "channels_frame['video_count'] = channels_frame['video_count'].apply(agregar_comas)\n",
    "channels_frame"
   ]
  },
  {
   "cell_type": "markdown",
   "id": "5d87e905",
   "metadata": {},
   "source": [
    "# Paso 3: Crear la tabla de destino en redshift"
   ]
  },
  {
   "cell_type": "code",
   "execution_count": 18,
   "id": "4d19ccad",
   "metadata": {},
   "outputs": [],
   "source": [
    "#entrar a DBeaver y crear New Database connection\n",
    "#ingresar Usuario, Contraseña, Host, port y Database\n",
    "#ir a tu usuario y crear un nuevo script SQL"
   ]
  },
  {
   "cell_type": "markdown",
   "id": "be1844f8",
   "metadata": {},
   "source": [
    "CREATE TABLE statistics (\n",
    "channel_name VARCHAR NOT NULL,   \n",
    "subscribers VARCHAR NOT NULL,\n",
    "views VARCHAR NOT null,\n",
    "video_count VARCHAR NOT null,\n",
    "PRIMARY KEY (channel_name),\n",
    "UNIQUE (channel_name)\n",
    ");"
   ]
  },
  {
   "cell_type": "markdown",
   "id": "41f525de",
   "metadata": {},
   "source": [
    "# Paso 4: establecer conexion a Redshift"
   ]
  },
  {
   "cell_type": "code",
   "execution_count": 21,
   "id": "9469edea",
   "metadata": {},
   "outputs": [],
   "source": [
    "user = 'annarochave_coderhouse'\n",
    "host = 'data-engineer-cluster.cyhh5bfevlmn.us-east-1.redshift.amazonaws.com'\n",
    "data_base = 'data-engineer-database'"
   ]
  },
  {
   "cell_type": "code",
   "execution_count": 20,
   "id": "bb1b00cd",
   "metadata": {},
   "outputs": [],
   "source": [
    "from config import redshift_pwd"
   ]
  },
  {
   "cell_type": "code",
   "execution_count": 22,
   "id": "cf232965",
   "metadata": {},
   "outputs": [
    {
     "name": "stdout",
     "output_type": "stream",
     "text": [
      "Connected to Redshift successfully!\n"
     ]
    }
   ],
   "source": [
    "try:\n",
    "    conn = psycopg2.connect(\n",
    "        host= host,\n",
    "        dbname=data_base,\n",
    "        user=user,\n",
    "        password=redshift_pwd,\n",
    "        port='5439'\n",
    "    )\n",
    "    print(\"Connected to Redshift successfully!\")\n",
    "    \n",
    "except Exception as e:\n",
    "    print(\"Unable to connect to Redshift.\")\n",
    "    print(e)"
   ]
  },
  {
   "cell_type": "markdown",
   "id": "5f246aee",
   "metadata": {},
   "source": [
    "# Paso 5: Verificar que la tabla exista"
   ]
  },
  {
   "cell_type": "code",
   "execution_count": 23,
   "id": "b7a49f81",
   "metadata": {},
   "outputs": [
    {
     "data": {
      "text/plain": [
       "[]"
      ]
     },
     "execution_count": 23,
     "metadata": {},
     "output_type": "execute_result"
    }
   ],
   "source": [
    "cur = conn.cursor()\n",
    "#ejecutar una query para verificar si existe la tabla que creamos\n",
    "cur.execute(\"SELECT * FROM statistics\")\n",
    "# traer los resultados\n",
    "results = cur.fetchall()\n",
    "results"
   ]
  },
  {
   "cell_type": "markdown",
   "id": "fb08cdf6",
   "metadata": {},
   "source": [
    "# Paso 6: Enviar resultados de tabla a redshift"
   ]
  },
  {
   "cell_type": "code",
   "execution_count": 24,
   "id": "28f900ab",
   "metadata": {},
   "outputs": [],
   "source": [
    "#llamamos a la funcion dentro de extras que trae valores, tambn lo hace sqlalquemy pero puede haber errores\n",
    "#nos permite hacer un INSERT multiple con respecto a las columnas del Dataframe\n",
    "from psycopg2.extras import execute_values\n",
    "\n",
    "#establecer el cursor hacia la base de datos\n",
    "cur = conn.cursor()\n",
    "\n",
    "#ponemos el nombre de la tabla a la cual queremos insertar los datos\n",
    "table_name = 'statistics'\n",
    "\n",
    "#ponemos las columnas \n",
    "columns = ['channel_name','subscribers', 'views', 'video_count']\n",
    "\n",
    "#sacamos los resultados que entran a una matriz en numpy y hace un ciclo para insertar los datos\n",
    "#es una lista de tuplas\n",
    "#cada tupla es una lista del data frame\n",
    "values = [tuple(x) for x in channels_frame.to_numpy()]\n",
    "\n",
    "#aqui inserta los datos separados por comas y le estamos diciendo que es un string\n",
    "insert_sql = f\"INSERT INTO {table_name} ({', '.join(columns)}) VALUES %s\"\n",
    "\n",
    "#comenzar la transaccion que necesita un inicio y una autorizacion \n",
    "#te pide el cursor, la query y los valores\n",
    "cur.execute(\"BEGIN\")\n",
    "execute_values(cur, insert_sql, values)\n",
    "cur.execute(\"COMMIT\")\n"
   ]
  },
  {
   "cell_type": "code",
   "execution_count": 25,
   "id": "85f05a0c",
   "metadata": {},
   "outputs": [],
   "source": [
    "#nos vamos a DBeaver y checamos con un SELECT * para ver si funciono"
   ]
  },
  {
   "cell_type": "code",
   "execution_count": 26,
   "id": "c4755055",
   "metadata": {},
   "outputs": [],
   "source": [
    "# SIEMPRE HAY QUE CERRAR EL CURSOR Y LA CONEXION!!!!\n",
    "cur.close()\n",
    "conn.close()"
   ]
  },
  {
   "cell_type": "code",
   "execution_count": null,
   "id": "8fd39462",
   "metadata": {},
   "outputs": [],
   "source": []
  },
  {
   "cell_type": "code",
   "execution_count": null,
   "id": "4780bff7",
   "metadata": {},
   "outputs": [],
   "source": []
  }
 ],
 "metadata": {
  "kernelspec": {
   "display_name": "mlenv",
   "language": "python",
   "name": "mlenv"
  },
  "language_info": {
   "codemirror_mode": {
    "name": "ipython",
    "version": 3
   },
   "file_extension": ".py",
   "mimetype": "text/x-python",
   "name": "python",
   "nbconvert_exporter": "python",
   "pygments_lexer": "ipython3",
   "version": "3.7.13"
  }
 },
 "nbformat": 4,
 "nbformat_minor": 5
}
